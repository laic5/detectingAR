{
 "cells": [
  {
   "cell_type": "code",
   "execution_count": 1,
   "metadata": {},
   "outputs": [
    {
     "name": "stderr",
     "output_type": "stream",
     "text": [
      "Using TensorFlow backend.\n"
     ]
    }
   ],
   "source": [
    "import os\n",
    "import numpy as np\n",
    "\n",
    "import tensorflow as tf\n",
    "import keras\n",
    "\n",
    "from keras.applications import VGG16, VGG19, ResNet50\n",
    "from keras.models import Model\n",
    "from keras.layers import Dense, GlobalMaxPooling2D\n",
    "from keras.preprocessing.image import ImageDataGenerator\n",
    "from keras.optimizers import SGD\n",
    "from imagenet_utils import decode_predictions\n",
    "from imagenet_utils import preprocess_input\n",
    "\n",
    "from tqdm import tqdm\n",
    "import glob"
   ]
  },
  {
   "cell_type": "markdown",
   "metadata": {},
   "source": [
    "# Data Prep"
   ]
  },
  {
   "cell_type": "markdown",
   "metadata": {},
   "source": [
    "### Using ImageDataGenerator."
   ]
  },
  {
   "cell_type": "markdown",
   "metadata": {},
   "source": [
    "Eventually want to use args and argparse to take in train_dir and test_dir."
   ]
  },
  {
   "cell_type": "code",
   "execution_count": 2,
   "metadata": {
    "collapsed": true
   },
   "outputs": [],
   "source": [
    "train_dir = 'train_CAL/'\n",
    "test_dir = 'test_CAL/'"
   ]
  },
  {
   "cell_type": "code",
   "execution_count": 3,
   "metadata": {
    "collapsed": true
   },
   "outputs": [],
   "source": [
    "IM_HEIGHT = 224\n",
    "IM_WIDTH = 224\n",
    "NB_EPOCHS = 1\n",
    "BAT_SIZE = 16\n",
    "FC_SIZE = 500 # May need to train this parameter\n",
    "nb_classes = 1"
   ]
  },
  {
   "cell_type": "code",
   "execution_count": 4,
   "metadata": {
    "collapsed": true
   },
   "outputs": [],
   "source": [
    "def get_nb_files(directory):\n",
    "    \"\"\"Get number of files by searching directory recursively\"\"\"\n",
    "    cnt = 0\n",
    "    for r, dirs, files in os.walk(directory):\n",
    "        for dr in dirs:\n",
    "            cnt += len(glob.glob(os.path.join(r, dr + \"/*\")))\n",
    "    return cnt"
   ]
  },
  {
   "cell_type": "code",
   "execution_count": 5,
   "metadata": {
    "collapsed": true
   },
   "outputs": [],
   "source": [
    "nb_train_samples = get_nb_files(train_dir)\n",
    "nb_classes = len(glob.glob(train_dir + \"/*\"))\n",
    "nb_val_samples = get_nb_files(test_dir)"
   ]
  },
  {
   "cell_type": "markdown",
   "metadata": {},
   "source": [
    "# VGG Model"
   ]
  },
  {
   "cell_type": "code",
   "execution_count": 6,
   "metadata": {
    "collapsed": true
   },
   "outputs": [],
   "source": [
    "def add_new_last_layer(base_model, nb_classes):\n",
    "    \"\"\"Add last layer to the convnet\n",
    "    Args:\n",
    "    base_model: keras model excluding top\n",
    "    nb_classes: # of classes\n",
    "    Returns:\n",
    "    new keras model with last layer\n",
    "    \"\"\"\n",
    "    x = base_model.output\n",
    "    x = GlobalMaxPooling2D()(x)\n",
    "    x = Dense(FC_SIZE, activation='relu')(x)\n",
    "    predictions = Dense(nb_classes, activation='sigmoid')(x) \n",
    "    model = Model(inputs=base_model.input, outputs=predictions)\n",
    "    return model"
   ]
  },
  {
   "cell_type": "code",
   "execution_count": 7,
   "metadata": {
    "collapsed": true
   },
   "outputs": [],
   "source": [
    "def setup_to_transfer_learn(model, base_model):\n",
    "    \"\"\"Freeze all layers and compile the model\"\"\"\n",
    "    adam = keras.optimizers.Adam(lr=0.01, beta_1=0.9, beta_2=0.999, epsilon=1e-08, decay=0.0)\n",
    "    for layer in base_model.layers:\n",
    "        layer.trainable = False\n",
    "        model.compile(optimizer='adam',    \n",
    "                    loss='binary_crossentropy', \n",
    "                    metrics=['accuracy'])"
   ]
  },
  {
   "cell_type": "code",
   "execution_count": 28,
   "metadata": {
    "collapsed": true
   },
   "outputs": [],
   "source": [
    "# ignore this for now\n",
    "def setup_to_finetune(model):\n",
    "    \"\"\"\n",
    "    If we want to fine-tine\n",
    "    \"\"\"\n",
    "    for layer in model.layers[:NB_IV3_LAYERS_TO_FREEZE]: # need to declare num layers to train\n",
    "        layer.trainable = False\n",
    "    for layer in model.layers[NB_IV3_LAYERS_TO_FREEZE:]:\n",
    "        layer.trainable = True\n",
    "    model.compile(optimizer=keras.optimizers.Adam(lr=0.0001, momentum=0.9),   \n",
    "                 loss='binary_crossentropy')"
   ]
  },
  {
   "cell_type": "markdown",
   "metadata": {},
   "source": [
    "Need to tune:\n",
    "* architecture type (ResNet, Inception, VGG19)\n",
    "* FC_SIZE\n",
    "* Adam parameters (momentum, learning rate, etc)\n",
    "* image data generator transforming parameters"
   ]
  },
  {
   "cell_type": "code",
   "execution_count": 8,
   "metadata": {
    "collapsed": true
   },
   "outputs": [],
   "source": [
    "def prepare_training(train_dir, test_dir, imheight=IM_HEIGHT, imwidth=IM_WIDTH, batch=BAT_SIZE):\n",
    "    train_datagen =  ImageDataGenerator(\n",
    "    #rotation_range=30,\n",
    "    #width_shift_range=0.2,\n",
    "    #height_shift_range=0.2,\n",
    "    #shear_range=0.2,\n",
    "    #zoom_range=0.2,\n",
    "    #rescale=1./255,\n",
    "    horizontal_flip=True,\n",
    "    vertical_flip=True)\n",
    "    \n",
    "    test_datagen = ImageDataGenerator(\n",
    "        #rotation_range=30,\n",
    "        #width_shift_range=0.2,\n",
    "        #height_shift_range=0.2,\n",
    "        #shear_range=0.2,\n",
    "        #zoom_range=0.2,\n",
    "        #rescale=1./255,\n",
    "        horizontal_flip=True,\n",
    "        vertical_flip=True\n",
    "    )\n",
    "\n",
    "    train_generator = train_datagen.flow_from_directory(\n",
    "        train_dir,\n",
    "        target_size=(IM_WIDTH, IM_HEIGHT),\n",
    "        batch_size=BAT_SIZE\n",
    "    )\n",
    "    validation_generator = test_datagen.flow_from_directory(\n",
    "        test_dir,\n",
    "        target_size=(IM_WIDTH, IM_HEIGHT),\n",
    "        batch_size=BAT_SIZE\n",
    "    )\n",
    "    \n",
    "    return (train_generator, validation_generator)"
   ]
  },
  {
   "cell_type": "code",
   "execution_count": null,
   "metadata": {
    "collapsed": true
   },
   "outputs": [],
   "source": [
    "def vgg16_train(train_dir, val_dir):\n",
    "    \n",
    "    train_gen, val_gen = prepare_training(train_dir=train_dir, test_dir=test_dir)\n",
    "\n",
    "    base_model = VGG16(weights='imagenet', include_top=False)\n",
    "    #base_model = VGG16(weights=None, include_top=False)\n",
    "    \n",
    "    model = add_new_last_layer(base_model, nb_classes)\n",
    "\n",
    "    setup_to_transfer_learn(model, base_model)\n",
    "\n",
    "    history = model.fit_generator(train_gen, epochs = NB_EPOCHS, steps_per_epoch = nb_train_samples, \\\n",
    "                                     validation_data=val_gen, validation_steps = nb_val_samples)\n",
    "    model.save(\"vgg19.h5\")\n",
    "    \n",
    "    return history\n",
    "\n",
    "h = vgg16_train(train_dir, test_dir)"
   ]
  },
  {
   "cell_type": "code",
   "execution_count": null,
   "metadata": {
    "collapsed": true
   },
   "outputs": [],
   "source": [
    "def vgg19_train(train_dir, val_dir):\n",
    "    \n",
    "    train_gen, val_gen = prepare_training(train_dir=train_dir, test_dir=test_dir)\n",
    "\n",
    "    base_model = VGG19(weights='imagenet', include_top=False)\n",
    "    model = add_new_last_layer(base_model, nb_classes)\n",
    "\n",
    "    setup_to_transfer_learn(model, base_model)\n",
    "\n",
    "    history = model.fit_generator(train_gen, epochs = NB_EPOCHS, steps_per_epoch = nb_train_samples, \\\n",
    "                                     validation_data=val_gen, validation_steps = nb_val_samples)\n",
    "    model.save(\"vgg19.h5\")\n",
    "    \n",
    "    return history\n",
    "\n",
    "h = vgg19_train(train_dir, test_dir)"
   ]
  },
  {
   "cell_type": "code",
   "execution_count": null,
   "metadata": {
    "collapsed": true
   },
   "outputs": [],
   "source": [
    "def resnet_train(train_dir, val_dir):\n",
    "    \n",
    "    train_gen, val_gen = prepare_training(train_dir=train_dir, test_dir=test_dir)\n",
    "\n",
    "    base_model = ResNet50(weights='imagenet', include_top=False)\n",
    "    model = add_new_last_layer(base_model, nb_classes)\n",
    "\n",
    "    setup_to_transfer_learn(model, base_model)\n",
    "\n",
    "    history = model.fit_generator(train_gen, epochs = NB_EPOCHS, steps_per_epoch = nb_train_samples, \\\n",
    "                                     validation_data=val_gen, validation_steps = nb_val_samples)\n",
    "    model.save(\"resnet.h5\")\n",
    "    \n",
    "    return history\n",
    "\n",
    "h = resnet_train(train_dir, test_dir)"
   ]
  },
  {
   "cell_type": "code",
   "execution_count": 8,
   "metadata": {},
   "outputs": [
    {
     "name": "stdout",
     "output_type": "stream",
     "text": [
      "Found 140 images belonging to 2 classes.\n"
     ]
    }
   ],
   "source": [
    "def predict(test_dir, model):\n",
    "    from keras.models import load_model\n",
    "    test_datagen = ImageDataGenerator()\n",
    "    \n",
    "    test_generator = test_datagen.flow_from_directory(\n",
    "        test_dir,\n",
    "        target_size=(224, 224),\n",
    "        batch_size=32,\n",
    "        shuffle=False\n",
    "    )\n",
    "    \n",
    "    model = load_model(model) # i.e. vgg16.h5\n",
    "    pred = model.predict_generator(test_generator, steps=len(test_generator))\n",
    "    \n",
    "    return pred\n",
    "\n",
    "preds = predict('./val_CAL', 'resnet_2048_32.h5')"
   ]
  },
  {
   "cell_type": "code",
   "execution_count": 24,
   "metadata": {
    "collapsed": true
   },
   "outputs": [],
   "source": [
    "def get_labels(direc):\n",
    "    # direc = \"./val_CAL\"\n",
    "    folder = direc + \"/0\"\n",
    "    num0 = len(os.listdir(direc + '/0'))\n",
    "    num1 = len(os.listdir(direc + '/1'))\n",
    "    y_real = list(np.repeat(0, num0)) + list(np.repeat(1, num1))\n",
    "    \n",
    "    return y_real"
   ]
  },
  {
   "cell_type": "code",
   "execution_count": 4,
   "metadata": {
    "collapsed": true
   },
   "outputs": [],
   "source": [
    "def decode(preds):\n",
    "    classes = []\n",
    "\n",
    "    for img in preds:\n",
    "        if img[0] >= img[1]:\n",
    "            classes.append(0)\n",
    "        else:\n",
    "            classes.append(1)\n",
    "            \n",
    "    return classes"
   ]
  },
  {
   "cell_type": "code",
   "execution_count": 25,
   "metadata": {},
   "outputs": [
    {
     "name": "stdout",
     "output_type": "stream",
     "text": [
      "0.8142857142857143\n"
     ]
    }
   ],
   "source": [
    "y_real = get_labels('val_CAL')\n",
    "\n",
    "classes = decode(preds)\n",
    "\n",
    "num_correct = 0\n",
    "for i in range(len(classes)):\n",
    "    if classes[i] == y_real[i]:\n",
    "        num_correct += 1\n",
    "\n",
    "total_acc = num_correct / len(classes)\n",
    "print(total_acc)"
   ]
  },
  {
   "cell_type": "code",
   "execution_count": 41,
   "metadata": {
    "collapsed": true
   },
   "outputs": [],
   "source": [
    "def convert_to_two(vec):\n",
    "    two_vec = np.zeros((140, 2))\n",
    "    for i in range(len(vec)):\n",
    "        if vec[i] == 0:\n",
    "            two_vec[i][0] = 1\n",
    "        else:\n",
    "            two_vec[i][1] = 1\n",
    "    return two_vec"
   ]
  },
  {
   "cell_type": "code",
   "execution_count": 50,
   "metadata": {},
   "outputs": [
    {
     "data": {
      "image/png": "[encoded data removed]",
      "text/plain": [
       "<matplotlib.figure.Figure at 0x1ae00b38a58>"
      ]
     },
     "metadata": {},
     "output_type": "display_data"
    }
   ],
   "source": [
    "from sklearn.metrics import roc_curve, auc\n",
    "import matplotlib.pyplot as plt\n",
    "\n",
    "y_true = convert_to_two(y_real)\n",
    "fpr, tpr, _ = roc_curve(y_true.ravel(), preds.ravel())\n",
    "roc_auc = auc(fpr, tpr)\n",
    "\n",
    "plt.figure()\n",
    "lw = 2\n",
    "plt.plot(fpr, tpr, color='darkorange',\n",
    "         lw=lw, label='ROC curve (area = %0.2f)' % roc_auc)\n",
    "plt.plot([0, 1], [0, 1], color='navy', lw=lw, linestyle='--')\n",
    "plt.xlim([0.0, 1.0])\n",
    "plt.ylim([0.0, 1.05])\n",
    "plt.xlabel('False Positive Rate')\n",
    "plt.ylabel('True Positive Rate')\n",
    "plt.title('Receiver operating characteristic')\n",
    "plt.legend(loc=\"lower right\")\n",
    "\n",
    "fig2 = plt.gcf()\n",
    "plt.show()\n",
    "fig2.savefig(\"roc_32.jpg\")"
   ]
  },
  {
   "cell_type": "code",
   "execution_count": 54,
   "metadata": {
    "collapsed": true
   },
   "outputs": [],
   "source": [
    "def get_roc_curve(model, val_dir, fname):\n",
    "    \n",
    "    y_pred = predict(val_dir, model)\n",
    "    \n",
    "    y_real = get_labels(val_dir)\n",
    "\n",
    "    y_true = convert_to_two(y_real)\n",
    "    \n",
    "    fpr, tpr, _ = roc_curve(y_true.ravel(), y_pred.ravel())\n",
    "    roc_auc = auc(fpr, tpr)\n",
    "    \n",
    "    plt.figure()\n",
    "    lw = 2\n",
    "    plt.plot(fpr, tpr, color='darkorange',\n",
    "             lw=lw, label='ROC curve (area = %0.2f)' % roc_auc)\n",
    "    plt.plot([0, 1], [0, 1], color='navy', lw=lw, linestyle='--')\n",
    "    plt.xlim([0.0, 1.0])\n",
    "    plt.ylim([0.0, 1.05])\n",
    "    plt.xlabel('False Positive Rate')\n",
    "    plt.ylabel('True Positive Rate')\n",
    "    plt.title('Receiver operating characteristic')\n",
    "    plt.legend(loc=\"lower right\")\n",
    "\n",
    "    fig2 = plt.gcf()\n",
    "    plt.show()\n",
    "    fig2.savefig(fname)"
   ]
  },
  {
   "cell_type": "code",
   "execution_count": 55,
   "metadata": {},
   "outputs": [
    {
     "name": "stdout",
     "output_type": "stream",
     "text": [
      "Found 140 images belonging to 2 classes.\n"
     ]
    },
    {
     "data": {
      "image/png": "[encoded data removed]",
      "text/plain": [
       "<matplotlib.figure.Figure at 0x1ae0ba46be0>"
      ]
     },
     "metadata": {},
     "output_type": "display_data"
    }
   ],
   "source": [
    "get_roc_curve('resnet_2048_16_none.h5', 'val_CAL', 'roc_16.jpg')"
   ]
  },
  {
   "cell_type": "code",
   "execution_count": 56,
   "metadata": {},
   "outputs": [
    {
     "name": "stdout",
     "output_type": "stream",
     "text": [
      "Found 140 images belonging to 2 classes.\n"
     ]
    },
    {
     "data": {
      "image/png": "[encoded data removed]",
      "text/plain": [
       "<matplotlib.figure.Figure at 0x1ae6d0e7cf8>"
      ]
     },
     "metadata": {},
     "output_type": "display_data"
    }
   ],
   "source": [
    "model2 = 'resnet_2048_16_none.h5'\n",
    "val_dir = 'val_CAL'\n",
    "\n",
    "preds16 = predict(val_dir, model2)\n",
    "\n",
    "fpr16, tpr16, _ = roc_curve(y_true.ravel(), preds16.ravel())\n",
    "roc_auc16 = auc(fpr16, tpr16)\n",
    "\n",
    "plt.figure()\n",
    "lw = 2\n",
    "plt.plot(fpr, tpr, color='darkorange',\n",
    "         lw=lw, label='ROC curve 32 (area = %0.2f)' % roc_auc)\n",
    "\n",
    "plt.plot(fpr16, tpr16, color='m',\n",
    "         lw=lw, label='ROC curve 16 (area = %0.2f)' % roc_auc16)\n",
    "\n",
    "plt.plot([0, 1], [0, 1], color='navy', lw=lw, linestyle='--')\n",
    "plt.xlim([0.0, 1.0])\n",
    "plt.ylim([0.0, 1.05])\n",
    "plt.xlabel('False Positive Rate')\n",
    "plt.ylabel('True Positive Rate')\n",
    "plt.title('Receiver operating characteristic')\n",
    "plt.legend(loc=\"lower right\")\n",
    "\n",
    "fig2 = plt.gcf()\n",
    "plt.show()\n",
    "fig2.savefig('roc_both.jpg')"
   ]
  }
 ],
 "metadata": {
  "kernelspec": {
   "display_name": "Python 3",
   "language": "python",
   "name": "python3"
  },
  "language_info": {
   "codemirror_mode": {
    "name": "ipython",
    "version": 3
   },
   "file_extension": ".py",
   "mimetype": "text/x-python",
   "name": "python",
   "nbconvert_exporter": "python",
   "pygments_lexer": "ipython3",
   "version": "3.6.0"
  }
 },
 "nbformat": 4,
 "nbformat_minor": 2
}
